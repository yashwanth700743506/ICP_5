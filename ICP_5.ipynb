{
 "cells": [
  {
   "cell_type": "code",
   "execution_count": null,
   "id": "4279d99a",
   "metadata": {},
   "outputs": [],
   "source": [
    "1. Implement Naïve Bayes method using scikit-learn library\n",
    "Use dataset available with name glass\n",
    "Use train_test_split to create training and testing part\n",
    "Evaluate the model on test part using score and \n",
    "     classification_report(y_true, y_pred)\n",
    "2. Implement linear SVM method using scikit library\n",
    "Use the same dataset above\n",
    "Use train_test_split to create training and testing part\n",
    "Evaluate the model on test part using score and \n",
    "    classification_report(y_true, y_pred)\n",
    "Which algorithm you got better accuracy? Can you justify why?"
   ]
  },
  {
   "cell_type": "code",
   "execution_count": 7,
   "id": "870a6e05",
   "metadata": {},
   "outputs": [
    {
     "name": "stdout",
     "output_type": "stream",
     "text": [
      "Accuracy: 0.308411214953271\n",
      "Classification Report:\n",
      "               precision    recall  f1-score   support\n",
      "\n",
      "           1       0.50      0.03      0.05        37\n",
      "           2       0.62      0.13      0.21        39\n",
      "           3       0.14      0.83      0.24        12\n",
      "           5       0.20      0.50      0.29         2\n",
      "           6       0.43      1.00      0.60         3\n",
      "           7       0.87      0.93      0.90        14\n",
      "\n",
      "    accuracy                           0.31       107\n",
      "   macro avg       0.46      0.57      0.38       107\n",
      "weighted avg       0.55      0.31      0.26       107\n",
      "\n"
     ]
    }
   ],
   "source": [
    "import pandas as pd\n",
    "from sklearn.model_selection import train_test_split\n",
    "from sklearn.naive_bayes import GaussianNB\n",
    "from sklearn.metrics import classification_report, accuracy_score\n",
    "\n",
    "g_d = pd.read_csv(\"C:/Users/amogh/OneDrive/Desktop/glass.csv\")\n",
    "\n",
    "X_train, X_test, y_train, y_test = train_test_split(g_d.iloc[:, :-1], g_d.iloc[:, -1], test_size=0.5, random_state=0)\n",
    "\n",
    "#GaussianNB is a classification technique used in ML based on the probabilistic approach and gaussian distribution.\n",
    "model = GaussianNB()\n",
    "\n",
    "model.fit(X_train, y_train)\n",
    "\n",
    "y_pred = model.predict(X_test)\n",
    "\n",
    "print(\"Accuracy:\", accuracy_score(y_test, y_pred))\n",
    "print(\"Classification Report:\\n\", classification_report(y_test, y_pred))\n"
   ]
  },
  {
   "cell_type": "code",
   "execution_count": 8,
   "id": "7768766c",
   "metadata": {
    "scrolled": true
   },
   "outputs": [
    {
     "name": "stdout",
     "output_type": "stream",
     "text": [
      "Accuracy: 0.5327102803738317\n",
      "Classification Report:\n",
      "               precision    recall  f1-score   support\n",
      "\n",
      "           1       0.49      1.00      0.65        37\n",
      "           2       1.00      0.10      0.19        39\n",
      "           3       0.00      0.00      0.00        12\n",
      "           5       0.20      1.00      0.33         2\n",
      "           6       0.33      0.33      0.33         3\n",
      "           7       0.93      0.93      0.93        14\n",
      "\n",
      "    accuracy                           0.53       107\n",
      "   macro avg       0.49      0.56      0.41       107\n",
      "weighted avg       0.67      0.53      0.43       107\n",
      "\n"
     ]
    },
    {
     "name": "stderr",
     "output_type": "stream",
     "text": [
      "C:\\Users\\amogh\\anaconda3\\lib\\site-packages\\sklearn\\svm\\_base.py:1206: ConvergenceWarning: Liblinear failed to converge, increase the number of iterations.\n",
      "  warnings.warn(\n",
      "C:\\Users\\amogh\\anaconda3\\lib\\site-packages\\sklearn\\metrics\\_classification.py:1318: UndefinedMetricWarning: Precision and F-score are ill-defined and being set to 0.0 in labels with no predicted samples. Use `zero_division` parameter to control this behavior.\n",
      "  _warn_prf(average, modifier, msg_start, len(result))\n",
      "C:\\Users\\amogh\\anaconda3\\lib\\site-packages\\sklearn\\metrics\\_classification.py:1318: UndefinedMetricWarning: Precision and F-score are ill-defined and being set to 0.0 in labels with no predicted samples. Use `zero_division` parameter to control this behavior.\n",
      "  _warn_prf(average, modifier, msg_start, len(result))\n",
      "C:\\Users\\amogh\\anaconda3\\lib\\site-packages\\sklearn\\metrics\\_classification.py:1318: UndefinedMetricWarning: Precision and F-score are ill-defined and being set to 0.0 in labels with no predicted samples. Use `zero_division` parameter to control this behavior.\n",
      "  _warn_prf(average, modifier, msg_start, len(result))\n"
     ]
    }
   ],
   "source": [
    "import pandas as pd\n",
    "from sklearn.model_selection import train_test_split\n",
    "from sklearn.svm import LinearSVC\n",
    "from sklearn.metrics import classification_report, accuracy_score\n",
    "\n",
    "g_d= pd.read_csv(\"C:/Users/amogh/OneDrive/Desktop/glass.csv\")\n",
    "\n",
    "X_train, X_test, y_train, y_test = train_test_split(g_d.iloc[:, :-1], g_d.iloc[:, -1], test_size=0.5, random_state=0)\n",
    "\n",
    "model = LinearSVC()\n",
    "\n",
    "model.fit(X_train, y_train)\n",
    "\n",
    "y_pred = model.predict(X_test)\n",
    "\n",
    "print(\"Accuracy:\", accuracy_score(y_test, y_pred))\n",
    "print(\"Classification Report:\\n\", classification_report(y_test, y_pred))\n"
   ]
  },
  {
   "cell_type": "code",
   "execution_count": null,
   "id": "3fa0d631",
   "metadata": {},
   "outputs": [],
   "source": []
  }
 ],
 "metadata": {
  "kernelspec": {
   "display_name": "Python 3 (ipykernel)",
   "language": "python",
   "name": "python3"
  },
  "language_info": {
   "codemirror_mode": {
    "name": "ipython",
    "version": 3
   },
   "file_extension": ".py",
   "mimetype": "text/x-python",
   "name": "python",
   "nbconvert_exporter": "python",
   "pygments_lexer": "ipython3",
   "version": "3.9.13"
  }
 },
 "nbformat": 4,
 "nbformat_minor": 5
}
